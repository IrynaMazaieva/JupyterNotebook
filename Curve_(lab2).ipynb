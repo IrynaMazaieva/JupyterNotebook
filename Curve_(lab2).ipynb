{
 "cells": [
  {
   "cell_type": "code",
   "execution_count": 1,
   "metadata": {},
   "outputs": [
    {
     "name": "stdout",
     "output_type": "stream",
     "text": [
      "F(x, y, z) = x**2 - y**2 + z**2 - 1\n",
      "G(x, y, z) = -2*x + y**2 + z\n",
      "P = (x, y, z)\n",
      "x = 1\n",
      "y = 1\n",
      "z = 1\n"
     ]
    }
   ],
   "source": [
    "import sympy as sym\n",
    "import matplotlib.pyplot as plt\n",
    "import numpy as np\n",
    "import itertools as it\n",
    "from mpl_toolkits.mplot3d import Axes3D\n",
    "%matplotlib inline\n",
    "sym.init_printing()\n",
    "\n",
    "x, y, z = sym.Symbol('x'), sym.Symbol('y'), sym.Symbol('z')\n",
    "\n",
    "F = sym.simplify(input(\"F(x, y, z) = \")) #x**2 - y**2 + z**2 - 1\n",
    "G = sym.simplify(input(\"G(x, y, z) = \")) #-2*x + y**2 + z\n",
    "print('P = (x, y, z)')\n",
    "px = float(input('x = '))\n",
    "py = float(input('y = '))\n",
    "pz = float(input('z = '))\n",
    "P = [px, py, pz] # P(1, 1, 1)\n",
    "\n",
    "\n",
    "F_x = F.diff(x)\n",
    "F_y = F.diff(y)\n",
    "F_z = F.diff(z)\n",
    "\n",
    "G_x = G.diff(x)\n",
    "G_y = G.diff(y)\n",
    "G_z = G.diff(z)\n"
   ]
  },
  {
   "cell_type": "code",
   "execution_count": 2,
   "metadata": {},
   "outputs": [
    {
     "name": "stdout",
     "output_type": "stream",
     "text": [
      "Змінні:  x z\n",
      "r = [f(y), y, g(y)] indexes = {f(y): 0, y: 1, g(y): 2}\n",
      "F = -y**2 + f(y)**2 + g(y)**2 - 1\n",
      "G = y**2 - 2*f(y) + g(y)\n",
      "F = -2*y + 2*f(y)*Derivative(f(y), y) + 2*g(y)*Derivative(g(y), y)\n",
      "G = 2*y - 2*Derivative(f(y), y) + Derivative(g(y), y)\n"
     ]
    }
   ],
   "source": [
    "if F.subs(x, P[0]).subs(y, P[1]).subs(z, P[2]) == G.subs(x, P[0]).subs(y, P[1]).subs(z, P[2]):\n",
    "    for p1, p2 in it.combinations((x, y, z), 2):\n",
    "        A = sym.Matrix([[F.diff(p1), F.diff(p2)], [G.diff(p1), G.diff(p2)]])\n",
    "        A_det = A.det()\n",
    "        A_det_in_P = A_det.subs(x, P[0]).subs(y, P[1]).subs(z, P[2])\n",
    "        if A_det_in_P != 0:\n",
    "            print(\"Змінні: \", p1, p2)\n",
    "            break\n",
    "else:\n",
    "    print(\"Не виконуються умови теореми!\")\n",
    " \n",
    "variables = {0:x, 1:y, 2:z}\n",
    "v = sym.simplify(x + y + z - p1 - p2)\n",
    "f = sym.Function('f')(v)\n",
    "g = sym.Function('g')(v)\n",
    "\n",
    "r = [0, 0, 0]\n",
    "index = {}\n",
    "for i in range(len(variables)):\n",
    "    if variables[i] == v:\n",
    "        r[i] = v\n",
    "        index[v] = i\n",
    "    elif variables[i] == p1:\n",
    "        r[i] = f\n",
    "        index[f] = i\n",
    "    else:\n",
    "        r[i] = g\n",
    "        index[g] = i\n",
    "        \n",
    "print('r =', r, \"indexes =\", index)\n",
    "\n",
    "eq1 = F.subs(x, r[0]).subs(y, r[1]).subs(z, r[2])\n",
    "eq2 = G.subs(x, r[0]).subs(y, r[1]).subs(z, r[2])\n",
    "print(\"F =\", eq1)\n",
    "print(\"G =\", eq2)\n",
    "eq = sym.simplify(eq1 + eq2)\n",
    "\n",
    "eq1_v = eq1.diff(v)\n",
    "eq2_v = eq2.diff(v)\n",
    "print(\"F =\", eq1_v)\n",
    "print(\"G =\", eq2_v)"
   ]
  },
  {
   "cell_type": "code",
   "execution_count": 3,
   "metadata": {},
   "outputs": [
    {
     "name": "stdout",
     "output_type": "stream",
     "text": [
      "F'(v) = 2.0*f_v + 2.0*g_v - 2.0\n",
      "G'(v) = -2*f_v + g_v + 2.0\n",
      "f'(v) = 1.00000000000000 g'(v) = 0.0\n",
      "r' = [1.00000000000000, 1, 0.0]\n"
     ]
    }
   ],
   "source": [
    "f_v, f_vv, f_vvv, g_v, g_vv, g_vvv = sym.symbols('f_v, f_vv, f_vvv, g_v, g_vv, g_vvv')\n",
    "\n",
    "eq1_v = str(eq1_v).replace('Derivative(f({}), {})'.format(v, v), str(f_v))\n",
    "eq1_v = str(eq1_v).replace('Derivative(g({}), {})'.format(v, v), str(g_v))\n",
    "eq1_v = sym.simplify(eq1_v)\n",
    "eq1_v = eq1_v.replace(f, P[index[f]])\n",
    "eq1_v = eq1_v.replace(g, P[index[g]])\n",
    "eq1_v = eq1_v.replace(v, P[index[v]])\n",
    "\n",
    "eq2_v = str(eq2_v).replace('Derivative(f({}), {})'.format(v, v), str(f_v))\n",
    "eq2_v = str(eq2_v).replace('Derivative(g({}), {})'.format(v, v), str(g_v))\n",
    "eq2_v = sym.simplify(eq2_v)\n",
    "eq2_v = eq2_v.replace(f, P[index[f]])\n",
    "eq2_v = eq2_v.replace(g, P[index[g]])\n",
    "eq2_v = eq2_v.replace(v, P[index[v]])\n",
    "\n",
    "print(\"F'(v) =\", eq1_v)\n",
    "print(\"G'(v) =\", eq2_v)\n",
    "\n",
    "f_ = sym.solve([eq1_v,eq2_v])[f_v]\n",
    "g_ = sym.solve([eq1_v,eq2_v])[g_v]\n",
    "\n",
    "print(\"f'(v) =\", f_, \"g'(v) =\", g_)\n",
    "\n",
    "r_v = [0, 0, 0]\n",
    "r_v[index[v]] = 1\n",
    "r_v[index[f]] = f_\n",
    "r_v[index[g]] = g_\n",
    "print(\"r' =\", r_v)"
   ]
  },
  {
   "cell_type": "code",
   "execution_count": 4,
   "metadata": {},
   "outputs": [
    {
     "name": "stdout",
     "output_type": "stream",
     "text": [
      "F''(v) = 2*f(y)*Derivative(f(y), (y, 2)) + 2*g(y)*Derivative(g(y), (y, 2)) + 2*Derivative(f(y), y)**2 + 2*Derivative(g(y), y)**2 - 2\n",
      "G''(v) = -2*Derivative(f(y), (y, 2)) + Derivative(g(y), (y, 2)) + 2\n",
      "F''(v) = 2.0*f_vv + 2.0*g_vv\n",
      "G''(v) = -2*f_vv + g_vv + 2\n",
      "f''(v) = 0.666666666666667 g''(v) = -0.666666666666667\n",
      "r'' = [0.666666666666667, 0, -0.666666666666667]\n"
     ]
    }
   ],
   "source": [
    "eq1_vv = eq1.diff(v).diff(v)\n",
    "eq2_vv = eq2.diff(v).diff(v)\n",
    "\n",
    "print(\"F''(v) =\", eq1_vv)\n",
    "print(\"G''(v) =\", eq2_vv)\n",
    "\n",
    "eq1_vv = str(eq1_vv).replace('Derivative(f({}), ({}, 2))'.format(v, v), str(f_vv))\n",
    "eq1_vv = str(eq1_vv).replace('Derivative(g({}), ({}, 2))'.format(v, v), str(g_vv))\n",
    "eq1_vv = str(eq1_vv).replace('Derivative(f({}), {})'.format(v, v), str(f_))\n",
    "eq1_vv = str(eq1_vv).replace('Derivative(g({}), {})'.format(v, v), str(g_))\n",
    "eq1_vv = sym.simplify(eq1_vv)\n",
    "eq1_vv = eq1_vv.replace(f, P[index[f]])\n",
    "eq1_vv = eq1_vv.replace(g, P[index[g]])\n",
    "\n",
    "eq2_vv = str(eq2_vv).replace('Derivative(f({}), ({}, 2))'.format(v, v), str(f_vv))\n",
    "eq2_vv = str(eq2_vv).replace('Derivative(g({}), ({}, 2))'.format(v, v), str(g_vv))\n",
    "eq2_vv = str(eq2_vv).replace('Derivative(f({}), {})'.format(v, v), str(f_))\n",
    "eq2_vv = str(eq2_vv).replace('Derivative(g({}), {})'.format(v, v), str(g_))\n",
    "eq2_vv = sym.simplify(eq2_vv)\n",
    "eq2_vv = eq2_vv.replace(f, P[index[f]])\n",
    "eq2_vv = eq2_vv.replace(g, P[index[g]])\n",
    "\n",
    "print(\"F''(v) =\", eq1_vv)\n",
    "print(\"G''(v) =\", eq2_vv)\n",
    "\n",
    "f__ = sym.solve([eq1_vv, eq2_vv])[f_vv]\n",
    "g__ = sym.solve([eq1_vv, eq2_vv])[g_vv]\n",
    "print(\"f''(v) =\", f__, \"g''(v) =\", g__)\n",
    "\n",
    "r_vv = [0, 0, 0]\n",
    "r_vv[index[v]] = 0\n",
    "r_vv[index[f]] = f__\n",
    "r_vv[index[g]] = g__\n",
    "print(\"r'' =\", r_vv)"
   ]
  },
  {
   "cell_type": "code",
   "execution_count": 5,
   "metadata": {},
   "outputs": [
    {
     "name": "stdout",
     "output_type": "stream",
     "text": [
      "F'''(v) = 2*f(y)*Derivative(f(y), (y, 3)) + 2*g(y)*Derivative(g(y), (y, 3)) + 6*Derivative(f(y), y)*Derivative(f(y), (y, 2)) + 6*Derivative(g(y), y)*Derivative(g(y), (y, 2))\n",
      "G'''(v) = -2*Derivative(f(y), (y, 3)) + Derivative(g(y), (y, 3))\n",
      "F'''(v) = 2.0*f_vvv + 2.0*g_vvv + 4.0\n",
      "G'''(v) = -2*f_vvv + g_vvv\n",
      "f'''(v) = -0.666666666666667 g'''(v) = -1.33333333333333\n",
      "r''' = [-0.666666666666667, 0, -1.33333333333333]\n"
     ]
    }
   ],
   "source": [
    "eq1_vvv = eq1.diff(v).diff(v).diff(v)\n",
    "eq2_vvv = eq2.diff(v).diff(v).diff(v)\n",
    "\n",
    "print(\"F'''(v) =\", eq1_vvv)\n",
    "print(\"G'''(v) =\", eq2_vvv)\n",
    "\n",
    "eq1_vvv = str(eq1_vvv).replace('Derivative(f({}), ({}, 3))'.format(v, v), str(f_vvv))\n",
    "eq1_vvv = str(eq1_vvv).replace('Derivative(g({}), ({}, 3))'.format(v, v), str(g_vvv))\n",
    "eq1_vvv = str(eq1_vvv).replace('Derivative(f({}), ({}, 2))'.format(v, v), str(f__))\n",
    "eq1_vvv = str(eq1_vvv).replace('Derivative(g({}), ({}, 2))'.format(v, v), str(g__))\n",
    "eq1_vvv = str(eq1_vvv).replace('Derivative(f({}), {})'.format(v, v), str(f_))\n",
    "eq1_vvv = str(eq1_vvv).replace('Derivative(g({}), {})'.format(v, v), str(g_))\n",
    "eq1_vvv = sym.simplify(eq1_vvv)\n",
    "eq1_vvv = eq1_vvv.replace(f, P[index[f]])\n",
    "eq1_vvv = eq1_vvv.replace(g, P[index[g]])\n",
    "\n",
    "eq2_vvv = str(eq2_vvv).replace('Derivative(f({}), ({}, 3))'.format(v, v), str(f_vvv))\n",
    "eq2_vvv = str(eq2_vvv).replace('Derivative(g({}), ({}, 3))'.format(v, v), str(g_vvv))\n",
    "eq2_vvv = str(eq2_vvv).replace('Derivative(f({}), ({}, 2))'.format(v, v), str(f__))\n",
    "eq2_vvv = str(eq2_vvv).replace('Derivative(g({}), ({}, 2))'.format(v, v), str(g__))\n",
    "eq2_vvv = str(eq2_vvv).replace('Derivative(f({}), {})'.format(v, v), str(f_))\n",
    "eq2_vvv = str(eq2_vvv).replace('Derivative(g({}), {})'.format(v, v), str(g_))\n",
    "eq2_vvv = sym.simplify(eq2_vvv)\n",
    "eq2_vvv = eq2_vvv.replace(f, P[index[f]])\n",
    "eq2_vvv = eq2_vvv.replace(g, P[index[g]])\n",
    "\n",
    "print(\"F'''(v) =\", eq1_vvv)\n",
    "print(\"G'''(v) =\", eq2_vvv)\n",
    "\n",
    "f___ = sym.solve([eq1_vvv, eq2_vvv])[f_vvv]\n",
    "g___ = sym.solve([eq1_vvv, eq2_vvv])[g_vvv]\n",
    "print(\"f'''(v) =\", f___, \"g'''(v) =\", g___)\n",
    "\n",
    "r_vvv = [0, 0, 0]\n",
    "r_vvv[index[v]] = 0\n",
    "r_vvv[index[f]] = f___\n",
    "r_vvv[index[g]] = g___\n",
    "print(\"r''' =\", r_vvv)"
   ]
  },
  {
   "cell_type": "code",
   "execution_count": 6,
   "metadata": {},
   "outputs": [
    {
     "name": "stdout",
     "output_type": "stream",
     "text": [
      "Орт дотичної -  [0.707106781186547, 0.707106781186547, 0]\n",
      "Орт бінормалі -  [-0.577350269189626, 0.577350269189626, -0.577350269189626]\n",
      "Орт головної нормалі -  [0.408248290463863, -0.408248290463863, -0.816496580927726]\n"
     ]
    }
   ],
   "source": [
    "r_v_mod = sym.sqrt(r_v[0]**2 + r_v[1]**2 + r_v[2]**2)\n",
    "r_vv_mod = sym.sqrt(r_vv[0]**2 + r_vv[1]**2 + r_vv[2]**2)\n",
    "r_vvv_mod = sym.sqrt(r_vvv[0]**2 + r_vvv[1]**2 + r_vvv[2]**2)\n",
    "\n",
    "r_v_dot_r_vv = [r_v[1]*r_vv[2] - r_v[2]*r_vv[1], -r_v[0]*r_vv[2] + r_vv[0]*r_v[2], r_v[0]*r_vv[1] - r_vv[0]*r_v[1]]\n",
    "r_v_dot_r_vv_mod = sym.sqrt(r_v_dot_r_vv[0]**2 + r_v_dot_r_vv[1]**2 + r_v_dot_r_vv[2]**2)\n",
    "\n",
    "tau = [r_v[0]/r_v_mod, r_v[1]/r_v_mod, r_v[2]/r_v_mod]\n",
    "beta = [r_v_dot_r_vv[0]/r_v_dot_r_vv_mod, r_v_dot_r_vv[1]/r_v_dot_r_vv_mod, r_v_dot_r_vv[2]/r_v_dot_r_vv_mod]\n",
    "\n",
    "beta_dot_tau = [beta[1]*tau[2] - beta[2]*tau[1], -beta[0]*tau[2] + tau[0]*beta[2], beta[0]*tau[1] - tau[0]*beta[1]]\n",
    "beta_dot_tau_mod = sym.sqrt((beta_dot_tau[0])**2 + (beta_dot_tau[1])**2 + (beta_dot_tau[2])**2).evalf()\n",
    "\n",
    "new = [beta_dot_tau[0]/beta_dot_tau_mod, beta_dot_tau[1]/beta_dot_tau_mod, beta_dot_tau[2]/beta_dot_tau_mod]\n",
    "\n",
    "print('Орт дотичної - ', tau)\n",
    "print('Орт бінормалі - ', beta)\n",
    "print('Орт головної нормалі - ', new)"
   ]
  },
  {
   "cell_type": "code",
   "execution_count": 7,
   "metadata": {},
   "outputs": [
    {
     "name": "stdout",
     "output_type": "stream",
     "text": [
      "Дотична:\n"
     ]
    },
    {
     "data": {
      "text/latex": [
       "$\\displaystyle \\frac{x - 1.0}{1.000}=\\frac{y - 1.0}{1}=\\frac{z - 1.0}{0.0}$"
      ],
      "text/plain": [
       "<IPython.core.display.Math object>"
      ]
     },
     "execution_count": 7,
     "metadata": {},
     "output_type": "execute_result"
    }
   ],
   "source": [
    "#дотична\n",
    "\n",
    "from IPython.display import display, Math\n",
    "\n",
    "x, y, z = sym.Symbol('x'), sym.Symbol('y'), sym.Symbol('z')\n",
    "\n",
    "tangent = [sym.simplify(x - P[0]), sym.simplify(y - P[1]), sym.simplify(z - P[2])]\n",
    "print('Дотична:')\n",
    "(Math(r'\\frac{'+str(tangent[0])[:9]+'}{'+str(r_v[0])[:5]+'}'+'='+r'\\frac{'+str(tangent[1])[:9]\\\n",
    "      +'}{'+str(r_v[1])[:5]+'}'+'='+r'\\frac{'+str(tangent[2])[:9]+'}{'+str(r_v[2])[:5]+'}'))"
   ]
  },
  {
   "cell_type": "code",
   "execution_count": 8,
   "metadata": {},
   "outputs": [
    {
     "name": "stdout",
     "output_type": "stream",
     "text": [
      "Бінормаль:\n"
     ]
    },
    {
     "data": {
      "text/latex": [
       "$\\displaystyle \\frac{x - 1.0}{-0.66}=\\frac{y - 1.0}{0.666}=\\frac{z - 1.0}{-0.66}$"
      ],
      "text/plain": [
       "<IPython.core.display.Math object>"
      ]
     },
     "execution_count": 8,
     "metadata": {},
     "output_type": "execute_result"
    }
   ],
   "source": [
    "#бінормаль\n",
    "\n",
    "binormal = [sym.simplify(x - P[0]), sym.simplify(y - P[1]), sym.simplify(z - P[2])]\n",
    "print('Бінормаль:')\n",
    "(Math(r'\\frac{'+str(binormal[0])[:9]+'}{'+str(r_v_dot_r_vv[0])[:5]+'}'+'='+r'\\frac{'+str(binormal[1])[:9]\\\n",
    "      +'}{'+str(r_v_dot_r_vv[1])[:5]+'}'+'='+r'\\frac{'+str(binormal[2])+'}{'+str(r_v_dot_r_vv[2])[:5]+'}'))"
   ]
  },
  {
   "cell_type": "code",
   "execution_count": 9,
   "metadata": {},
   "outputs": [
    {
     "name": "stdout",
     "output_type": "stream",
     "text": [
      "Головна нормаль:\n"
     ]
    },
    {
     "data": {
      "text/latex": [
       "$\\displaystyle \\frac{x - 1.0}{0.408}=\\frac{y - 1.0}{-0.40}=\\frac{z - 1.0}{-0.81}$"
      ],
      "text/plain": [
       "<IPython.core.display.Math object>"
      ]
     },
     "execution_count": 9,
     "metadata": {},
     "output_type": "execute_result"
    }
   ],
   "source": [
    "#головна нормаль\n",
    "\n",
    "main_normal = [sym.simplify(x - P[0]), sym.simplify(y - P[1]), sym.simplify(z - P[2])]\n",
    "print('Головна нормаль:')\n",
    "(Math(r'\\frac{'+str(main_normal[0])[:9]+'}{'+str(beta_dot_tau[0])[:5]+'}'+'='+r'\\frac{'+str(main_normal[1])[:9]\\\n",
    "      +'}{'+str(beta_dot_tau[1])[:5]+'}'+'='+r'\\frac{'+str(main_normal[2])[:9]+'}{'+str(beta_dot_tau[2])[:5]+'}'))"
   ]
  },
  {
   "cell_type": "code",
   "execution_count": 10,
   "metadata": {},
   "outputs": [
    {
     "name": "stdout",
     "output_type": "stream",
     "text": [
      "Дотична площина:  1.0*x + 1.0*y + 3.0 = 0\n",
      "Стична площина:  -0.667*x + 0.667*y - 0.667*z + 3.0 = 0\n",
      "Спрямна площина:  0.408*x - 0.408*y - 0.816*z + 3.0 = 0\n"
     ]
    }
   ],
   "source": [
    "#дотична площина\n",
    "d = np.around(float(P[0] + P[1] + P[2]), 3)\n",
    "normal_plane = sym.simplify(np.around(float(r_v[0]), 3)*x + np.around(float(r_v[1]), 3)*y \\\n",
    "                             + np.around(float(r_v[2]), 3)*z + d)\n",
    "print(\"Дотична площина: \", normal_plane, '= 0')\n",
    "\n",
    "#стична площина\n",
    "\n",
    "osculating_plane = sym.simplify(np.around(float(r_v_dot_r_vv[0]), 3)*x + np.around(float(r_v_dot_r_vv[1]), 3)*y \\\n",
    "                             + np.around(float(r_v_dot_r_vv[2]), 3)*z + d)\n",
    "print(\"Стична площина: \", osculating_plane, '= 0')\n",
    "\n",
    "#спрямна площина \n",
    "\n",
    "rectifying_plane = sym.simplify(np.around(float(beta_dot_tau[0]), 3)*x + np.around(float(beta_dot_tau[1]), 3)*y \\\n",
    "                             + np.around(float(beta_dot_tau[2]), 3)*z + d)\n",
    "print(\"Спрямна площина: \", rectifying_plane, \"= 0\")"
   ]
  },
  {
   "cell_type": "code",
   "execution_count": 12,
   "metadata": {},
   "outputs": [
    {
     "name": "stdout",
     "output_type": "stream",
     "text": [
      "Кривина:  0.544 Скрут:  1.0\n"
     ]
    }
   ],
   "source": [
    "#кривина і скрут\n",
    "\n",
    "r_v_r_vv_r_vvv = r_v_dot_r_vv[0]*r_vvv[0] + r_v_dot_r_vv[1]*r_vvv[1] + r_v_dot_r_vv[2]*r_vvv[2]\n",
    "k = float((r_v_dot_r_vv_mod**3)/(r_v_mod**3))\n",
    "k = np.around(k, decimals=3)\n",
    "kappa = float((r_v_r_vv_r_vvv)/(r_v_dot_r_vv_mod**2))\n",
    "kappa = np.around(kappa, decimals=3)\n",
    "print(\"Кривина: \", k, \"Скрут: \", kappa)"
   ]
  },
  {
   "cell_type": "code",
   "execution_count": 13,
   "metadata": {},
   "outputs": [
    {
     "name": "stdout",
     "output_type": "stream",
     "text": [
      "Стичне коло:\n"
     ]
    },
    {
     "data": {
      "text/latex": [
       "$\\displaystyle (x - 0.249)^2 + (y -1.750)^2 + (z - 1.500)^2 = 1.838$"
      ],
      "text/plain": [
       "<IPython.core.display.Math object>"
      ]
     },
     "execution_count": 13,
     "metadata": {},
     "output_type": "execute_result"
    }
   ],
   "source": [
    "#стичне коло\n",
    "\n",
    "R = 1/k\n",
    "radius_vector = [r_v[0] - R*new[0], r_v[1] - R*new[1], r_v[2] - R*new[2]]\n",
    "osculating_circle = sym.Function('f')\n",
    "osculating_circle = ((x - radius_vector[0])**2 + (y - radius_vector[1])**2 + (z - radius_vector[2])**2)\n",
    "print(\"Стичне коло:\")\n",
    "Math(r\"(x - \"+str(radius_vector[0])[:5]+\")^2 + (y -\"+str(radius_vector[1])[:5]\\\n",
    "     +\")^2 + (z - \"+str(radius_vector[2])[:5]+\")^2 = \"+str(R)[:5])"
   ]
  }
 ],
 "metadata": {
  "kernelspec": {
   "display_name": "Python 3",
   "language": "python",
   "name": "python3"
  },
  "language_info": {
   "codemirror_mode": {
    "name": "ipython",
    "version": 3
   },
   "file_extension": ".py",
   "mimetype": "text/x-python",
   "name": "python",
   "nbconvert_exporter": "python",
   "pygments_lexer": "ipython3",
   "version": "3.7.1"
  }
 },
 "nbformat": 4,
 "nbformat_minor": 2
}
